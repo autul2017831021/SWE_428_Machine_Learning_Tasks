{
 "cells": [
  {
   "cell_type": "markdown",
   "metadata": {
    "colab_type": "text",
    "id": "view-in-github"
   },
   "source": [
    "<a href=\"https://colab.research.google.com/github/autul2017831021/SWE_428_Machine_Learning_Tasks/blob/main/Regularized%20Logistic%20Regression%20(Classification)/Regularized_Logistic_Regression_Assignment.ipynb\" target=\"_parent\"><img src=\"https://colab.research.google.com/assets/colab-badge.svg\" alt=\"Open In Colab\"/></a>"
   ]
  },
  {
   "cell_type": "code",
   "execution_count": 90,
   "metadata": {
    "id": "Z2R4TaTnySGS"
   },
   "outputs": [],
   "source": [
    "import pandas as pd\n",
    "import matplotlib.pyplot as plt\n",
    "import csv\n",
    "import numpy as np\n",
    "import seaborn as sns\n",
    "import csv\n",
    "import io\n",
    "import math"
   ]
  },
  {
   "cell_type": "code",
   "execution_count": 66,
   "metadata": {
    "colab": {
     "base_uri": "https://localhost:8080/",
     "height": 74
    },
    "id": "G4ESFdRfyk0l",
    "outputId": "d88c0b07-5377-4a4d-f79c-69756b03e291"
   },
   "outputs": [
    {
     "data": {
      "text/html": [
       "\n",
       "     <input type=\"file\" id=\"files-657a2b3c-e7dd-4ef8-9528-f2e96798dc72\" name=\"files[]\" multiple disabled\n",
       "        style=\"border:none\" />\n",
       "     <output id=\"result-657a2b3c-e7dd-4ef8-9528-f2e96798dc72\">\n",
       "      Upload widget is only available when the cell has been executed in the\n",
       "      current browser session. Please rerun this cell to enable.\n",
       "      </output>\n",
       "      <script>// Copyright 2017 Google LLC\n",
       "//\n",
       "// Licensed under the Apache License, Version 2.0 (the \"License\");\n",
       "// you may not use this file except in compliance with the License.\n",
       "// You may obtain a copy of the License at\n",
       "//\n",
       "//      http://www.apache.org/licenses/LICENSE-2.0\n",
       "//\n",
       "// Unless required by applicable law or agreed to in writing, software\n",
       "// distributed under the License is distributed on an \"AS IS\" BASIS,\n",
       "// WITHOUT WARRANTIES OR CONDITIONS OF ANY KIND, either express or implied.\n",
       "// See the License for the specific language governing permissions and\n",
       "// limitations under the License.\n",
       "\n",
       "/**\n",
       " * @fileoverview Helpers for google.colab Python module.\n",
       " */\n",
       "(function(scope) {\n",
       "function span(text, styleAttributes = {}) {\n",
       "  const element = document.createElement('span');\n",
       "  element.textContent = text;\n",
       "  for (const key of Object.keys(styleAttributes)) {\n",
       "    element.style[key] = styleAttributes[key];\n",
       "  }\n",
       "  return element;\n",
       "}\n",
       "\n",
       "// Max number of bytes which will be uploaded at a time.\n",
       "const MAX_PAYLOAD_SIZE = 100 * 1024;\n",
       "\n",
       "function _uploadFiles(inputId, outputId) {\n",
       "  const steps = uploadFilesStep(inputId, outputId);\n",
       "  const outputElement = document.getElementById(outputId);\n",
       "  // Cache steps on the outputElement to make it available for the next call\n",
       "  // to uploadFilesContinue from Python.\n",
       "  outputElement.steps = steps;\n",
       "\n",
       "  return _uploadFilesContinue(outputId);\n",
       "}\n",
       "\n",
       "// This is roughly an async generator (not supported in the browser yet),\n",
       "// where there are multiple asynchronous steps and the Python side is going\n",
       "// to poll for completion of each step.\n",
       "// This uses a Promise to block the python side on completion of each step,\n",
       "// then passes the result of the previous step as the input to the next step.\n",
       "function _uploadFilesContinue(outputId) {\n",
       "  const outputElement = document.getElementById(outputId);\n",
       "  const steps = outputElement.steps;\n",
       "\n",
       "  const next = steps.next(outputElement.lastPromiseValue);\n",
       "  return Promise.resolve(next.value.promise).then((value) => {\n",
       "    // Cache the last promise value to make it available to the next\n",
       "    // step of the generator.\n",
       "    outputElement.lastPromiseValue = value;\n",
       "    return next.value.response;\n",
       "  });\n",
       "}\n",
       "\n",
       "/**\n",
       " * Generator function which is called between each async step of the upload\n",
       " * process.\n",
       " * @param {string} inputId Element ID of the input file picker element.\n",
       " * @param {string} outputId Element ID of the output display.\n",
       " * @return {!Iterable<!Object>} Iterable of next steps.\n",
       " */\n",
       "function* uploadFilesStep(inputId, outputId) {\n",
       "  const inputElement = document.getElementById(inputId);\n",
       "  inputElement.disabled = false;\n",
       "\n",
       "  const outputElement = document.getElementById(outputId);\n",
       "  outputElement.innerHTML = '';\n",
       "\n",
       "  const pickedPromise = new Promise((resolve) => {\n",
       "    inputElement.addEventListener('change', (e) => {\n",
       "      resolve(e.target.files);\n",
       "    });\n",
       "  });\n",
       "\n",
       "  const cancel = document.createElement('button');\n",
       "  inputElement.parentElement.appendChild(cancel);\n",
       "  cancel.textContent = 'Cancel upload';\n",
       "  const cancelPromise = new Promise((resolve) => {\n",
       "    cancel.onclick = () => {\n",
       "      resolve(null);\n",
       "    };\n",
       "  });\n",
       "\n",
       "  // Wait for the user to pick the files.\n",
       "  const files = yield {\n",
       "    promise: Promise.race([pickedPromise, cancelPromise]),\n",
       "    response: {\n",
       "      action: 'starting',\n",
       "    }\n",
       "  };\n",
       "\n",
       "  cancel.remove();\n",
       "\n",
       "  // Disable the input element since further picks are not allowed.\n",
       "  inputElement.disabled = true;\n",
       "\n",
       "  if (!files) {\n",
       "    return {\n",
       "      response: {\n",
       "        action: 'complete',\n",
       "      }\n",
       "    };\n",
       "  }\n",
       "\n",
       "  for (const file of files) {\n",
       "    const li = document.createElement('li');\n",
       "    li.append(span(file.name, {fontWeight: 'bold'}));\n",
       "    li.append(span(\n",
       "        `(${file.type || 'n/a'}) - ${file.size} bytes, ` +\n",
       "        `last modified: ${\n",
       "            file.lastModifiedDate ? file.lastModifiedDate.toLocaleDateString() :\n",
       "                                    'n/a'} - `));\n",
       "    const percent = span('0% done');\n",
       "    li.appendChild(percent);\n",
       "\n",
       "    outputElement.appendChild(li);\n",
       "\n",
       "    const fileDataPromise = new Promise((resolve) => {\n",
       "      const reader = new FileReader();\n",
       "      reader.onload = (e) => {\n",
       "        resolve(e.target.result);\n",
       "      };\n",
       "      reader.readAsArrayBuffer(file);\n",
       "    });\n",
       "    // Wait for the data to be ready.\n",
       "    let fileData = yield {\n",
       "      promise: fileDataPromise,\n",
       "      response: {\n",
       "        action: 'continue',\n",
       "      }\n",
       "    };\n",
       "\n",
       "    // Use a chunked sending to avoid message size limits. See b/62115660.\n",
       "    let position = 0;\n",
       "    do {\n",
       "      const length = Math.min(fileData.byteLength - position, MAX_PAYLOAD_SIZE);\n",
       "      const chunk = new Uint8Array(fileData, position, length);\n",
       "      position += length;\n",
       "\n",
       "      const base64 = btoa(String.fromCharCode.apply(null, chunk));\n",
       "      yield {\n",
       "        response: {\n",
       "          action: 'append',\n",
       "          file: file.name,\n",
       "          data: base64,\n",
       "        },\n",
       "      };\n",
       "\n",
       "      let percentDone = fileData.byteLength === 0 ?\n",
       "          100 :\n",
       "          Math.round((position / fileData.byteLength) * 100);\n",
       "      percent.textContent = `${percentDone}% done`;\n",
       "\n",
       "    } while (position < fileData.byteLength);\n",
       "  }\n",
       "\n",
       "  // All done.\n",
       "  yield {\n",
       "    response: {\n",
       "      action: 'complete',\n",
       "    }\n",
       "  };\n",
       "}\n",
       "\n",
       "scope.google = scope.google || {};\n",
       "scope.google.colab = scope.google.colab || {};\n",
       "scope.google.colab._files = {\n",
       "  _uploadFiles,\n",
       "  _uploadFilesContinue,\n",
       "};\n",
       "})(self);\n",
       "</script> "
      ],
      "text/plain": [
       "<IPython.core.display.HTML object>"
      ]
     },
     "metadata": {},
     "output_type": "display_data"
    },
    {
     "name": "stdout",
     "output_type": "stream",
     "text": [
      "Saving data2.txt to data2 (1).txt\n"
     ]
    }
   ],
   "source": [
    "from google.colab import files\n",
    "uploaded = files.upload()"
   ]
  },
  {
   "cell_type": "code",
   "execution_count": 67,
   "metadata": {
    "colab": {
     "base_uri": "https://localhost:8080/",
     "height": 206
    },
    "id": "OOa40yp9zdSS",
    "outputId": "e9c176cb-6dfc-45ff-85fd-8fffd6ecfbdd"
   },
   "outputs": [
    {
     "data": {
      "text/html": [
       "\n",
       "  <div id=\"df-2054e78c-0087-4bfc-ac1c-2e9ad1d2f276\">\n",
       "    <div class=\"colab-df-container\">\n",
       "      <div>\n",
       "<style scoped>\n",
       "    .dataframe tbody tr th:only-of-type {\n",
       "        vertical-align: middle;\n",
       "    }\n",
       "\n",
       "    .dataframe tbody tr th {\n",
       "        vertical-align: top;\n",
       "    }\n",
       "\n",
       "    .dataframe thead th {\n",
       "        text-align: right;\n",
       "    }\n",
       "</style>\n",
       "<table border=\"1\" class=\"dataframe\">\n",
       "  <thead>\n",
       "    <tr style=\"text-align: right;\">\n",
       "      <th></th>\n",
       "      <th>x1</th>\n",
       "      <th>x2</th>\n",
       "      <th>y</th>\n",
       "    </tr>\n",
       "  </thead>\n",
       "  <tbody>\n",
       "    <tr>\n",
       "      <th>0</th>\n",
       "      <td>0.051267</td>\n",
       "      <td>0.69956</td>\n",
       "      <td>1</td>\n",
       "    </tr>\n",
       "    <tr>\n",
       "      <th>1</th>\n",
       "      <td>-0.092742</td>\n",
       "      <td>0.68494</td>\n",
       "      <td>1</td>\n",
       "    </tr>\n",
       "    <tr>\n",
       "      <th>2</th>\n",
       "      <td>-0.213710</td>\n",
       "      <td>0.69225</td>\n",
       "      <td>1</td>\n",
       "    </tr>\n",
       "    <tr>\n",
       "      <th>3</th>\n",
       "      <td>-0.375000</td>\n",
       "      <td>0.50219</td>\n",
       "      <td>1</td>\n",
       "    </tr>\n",
       "    <tr>\n",
       "      <th>4</th>\n",
       "      <td>-0.513250</td>\n",
       "      <td>0.46564</td>\n",
       "      <td>1</td>\n",
       "    </tr>\n",
       "  </tbody>\n",
       "</table>\n",
       "</div>\n",
       "      <button class=\"colab-df-convert\" onclick=\"convertToInteractive('df-2054e78c-0087-4bfc-ac1c-2e9ad1d2f276')\"\n",
       "              title=\"Convert this dataframe to an interactive table.\"\n",
       "              style=\"display:none;\">\n",
       "        \n",
       "  <svg xmlns=\"http://www.w3.org/2000/svg\" height=\"24px\"viewBox=\"0 0 24 24\"\n",
       "       width=\"24px\">\n",
       "    <path d=\"M0 0h24v24H0V0z\" fill=\"none\"/>\n",
       "    <path d=\"M18.56 5.44l.94 2.06.94-2.06 2.06-.94-2.06-.94-.94-2.06-.94 2.06-2.06.94zm-11 1L8.5 8.5l.94-2.06 2.06-.94-2.06-.94L8.5 2.5l-.94 2.06-2.06.94zm10 10l.94 2.06.94-2.06 2.06-.94-2.06-.94-.94-2.06-.94 2.06-2.06.94z\"/><path d=\"M17.41 7.96l-1.37-1.37c-.4-.4-.92-.59-1.43-.59-.52 0-1.04.2-1.43.59L10.3 9.45l-7.72 7.72c-.78.78-.78 2.05 0 2.83L4 21.41c.39.39.9.59 1.41.59.51 0 1.02-.2 1.41-.59l7.78-7.78 2.81-2.81c.8-.78.8-2.07 0-2.86zM5.41 20L4 18.59l7.72-7.72 1.47 1.35L5.41 20z\"/>\n",
       "  </svg>\n",
       "      </button>\n",
       "      \n",
       "  <style>\n",
       "    .colab-df-container {\n",
       "      display:flex;\n",
       "      flex-wrap:wrap;\n",
       "      gap: 12px;\n",
       "    }\n",
       "\n",
       "    .colab-df-convert {\n",
       "      background-color: #E8F0FE;\n",
       "      border: none;\n",
       "      border-radius: 50%;\n",
       "      cursor: pointer;\n",
       "      display: none;\n",
       "      fill: #1967D2;\n",
       "      height: 32px;\n",
       "      padding: 0 0 0 0;\n",
       "      width: 32px;\n",
       "    }\n",
       "\n",
       "    .colab-df-convert:hover {\n",
       "      background-color: #E2EBFA;\n",
       "      box-shadow: 0px 1px 2px rgba(60, 64, 67, 0.3), 0px 1px 3px 1px rgba(60, 64, 67, 0.15);\n",
       "      fill: #174EA6;\n",
       "    }\n",
       "\n",
       "    [theme=dark] .colab-df-convert {\n",
       "      background-color: #3B4455;\n",
       "      fill: #D2E3FC;\n",
       "    }\n",
       "\n",
       "    [theme=dark] .colab-df-convert:hover {\n",
       "      background-color: #434B5C;\n",
       "      box-shadow: 0px 1px 3px 1px rgba(0, 0, 0, 0.15);\n",
       "      filter: drop-shadow(0px 1px 2px rgba(0, 0, 0, 0.3));\n",
       "      fill: #FFFFFF;\n",
       "    }\n",
       "  </style>\n",
       "\n",
       "      <script>\n",
       "        const buttonEl =\n",
       "          document.querySelector('#df-2054e78c-0087-4bfc-ac1c-2e9ad1d2f276 button.colab-df-convert');\n",
       "        buttonEl.style.display =\n",
       "          google.colab.kernel.accessAllowed ? 'block' : 'none';\n",
       "\n",
       "        async function convertToInteractive(key) {\n",
       "          const element = document.querySelector('#df-2054e78c-0087-4bfc-ac1c-2e9ad1d2f276');\n",
       "          const dataTable =\n",
       "            await google.colab.kernel.invokeFunction('convertToInteractive',\n",
       "                                                     [key], {});\n",
       "          if (!dataTable) return;\n",
       "\n",
       "          const docLinkHtml = 'Like what you see? Visit the ' +\n",
       "            '<a target=\"_blank\" href=https://colab.research.google.com/notebooks/data_table.ipynb>data table notebook</a>'\n",
       "            + ' to learn more about interactive tables.';\n",
       "          element.innerHTML = '';\n",
       "          dataTable['output_type'] = 'display_data';\n",
       "          await google.colab.output.renderOutput(dataTable, element);\n",
       "          const docLink = document.createElement('div');\n",
       "          docLink.innerHTML = docLinkHtml;\n",
       "          element.appendChild(docLink);\n",
       "        }\n",
       "      </script>\n",
       "    </div>\n",
       "  </div>\n",
       "  "
      ],
      "text/plain": [
       "         x1       x2  y\n",
       "0  0.051267  0.69956  1\n",
       "1 -0.092742  0.68494  1\n",
       "2 -0.213710  0.69225  1\n",
       "3 -0.375000  0.50219  1\n",
       "4 -0.513250  0.46564  1"
      ]
     },
     "execution_count": 67,
     "metadata": {},
     "output_type": "execute_result"
    }
   ],
   "source": [
    "data = pd.read_csv(io.BytesIO(uploaded['data2.txt']), header=None, names = [\"x1\",\"x2\",\"y\"])\n",
    "data.head()"
   ]
  },
  {
   "cell_type": "code",
   "execution_count": 68,
   "metadata": {
    "id": "RhQ9B3PfrpE_"
   },
   "outputs": [],
   "source": [
    "def plotData(data, label_x, label_y, label_pos, label_neg, axes=None):\n",
    "    # Get indexes for class 0 and class 1\n",
    "    neg = data['y'] == 0\n",
    "    pos = data['y'] == 1\n",
    "    \n",
    "    # If no specific axes object has been passed, get the current axes.\n",
    "    if axes == None:\n",
    "        axes = plt.gca()\n",
    "    axes.scatter(data[pos]['x1'], data[pos]['x2'], marker='+', c='orange', s=60, linewidth=2, label=label_pos)\n",
    "    axes.scatter(data[neg]['x1'], data[neg]['x2'], c='blue', s=60, label=label_neg)\n",
    "    axes.set_xlabel(label_x)\n",
    "    axes.set_ylabel(label_y)\n",
    "    axes.legend(frameon= True, fancybox = True);"
   ]
  },
  {
   "cell_type": "code",
   "execution_count": 69,
   "metadata": {
    "colab": {
     "base_uri": "https://localhost:8080/",
     "height": 279
    },
    "id": "AkWEsV3grpH2",
    "outputId": "e5960e8a-550a-4bb0-b592-bfee818312c9"
   },
   "outputs": [
    {
     "data": {
      "image/png": "[encoded data removed]",
      "text/plain": [
       "<Figure size 432x288 with 1 Axes>"
      ]
     },
     "metadata": {
      "needs_background": "light"
     },
     "output_type": "display_data"
    }
   ],
   "source": [
    "plotData(data, 'Microchip Test 1', 'Microchip Test 2', 'y = 1', 'y = 0')"
   ]
  },
  {
   "cell_type": "code",
   "execution_count": 70,
   "metadata": {
    "id": "JOkJykh9rpKp"
   },
   "outputs": [],
   "source": [
    "n = data.shape[1]-1\n",
    "x = data[data.columns[0:n]]\n",
    "\n",
    "y = data[data.columns[n:n+1]]\n",
    "# convert to np.array\n",
    "XX = x.values\n",
    "Y = y.values"
   ]
  },
  {
   "cell_type": "code",
   "execution_count": 71,
   "metadata": {
    "id": "c559FfKArpNW"
   },
   "outputs": [],
   "source": [
    "def mapFeature( x1col, x2col):\n",
    "    degrees = 10\n",
    "    out = np.ones( (x1col.shape[0], 1) )\n",
    "\n",
    "    for i in range(1, degrees+1):\n",
    "        for j in range(0, i+1):\n",
    "            term1 = x1col ** (i-j)\n",
    "            term2 = x2col ** (j)\n",
    "            term  = (term1 * term2).reshape( term1.shape[0], 1 ) \n",
    "            out   = np.hstack(( out, term ))\n",
    "    return out"
   ]
  },
  {
   "cell_type": "code",
   "execution_count": 72,
   "metadata": {
    "colab": {
     "base_uri": "https://localhost:8080/"
    },
    "id": "SEDN0wtRrpQa",
    "outputId": "4f76431b-d972-4c03-ea41-c3e5c2461eab"
   },
   "outputs": [
    {
     "name": "stdout",
     "output_type": "stream",
     "text": [
      "(118, 66) (118, 2)\n"
     ]
    }
   ],
   "source": [
    "X = mapFeature(XX[:,0],XX[:,1])\n",
    "print(X.shape, XX.shape)"
   ]
  },
  {
   "cell_type": "code",
   "execution_count": 73,
   "metadata": {
    "id": "reK-j9kbrpS2"
   },
   "outputs": [],
   "source": [
    "from scipy.special import expit #Vectorized sigmoid function\n",
    "\n",
    "#Hypothesis function and cost function for logistic regression\n",
    "def h(mytheta,X): #Logistic hypothesis function\n",
    "    return expit(np.dot(X,mytheta))"
   ]
  },
  {
   "cell_type": "code",
   "execution_count": 74,
   "metadata": {
    "id": "RR6eMF9lrpV3"
   },
   "outputs": [],
   "source": [
    "#Cost function, default lambda (regularization) 0\n",
    "def computeCost(mytheta,X,Y,mylambda = 0.): \n",
    "\n",
    "    m = Y.size # number of training examples\n",
    "\n",
    "    term1 = np.dot(-np.array(Y).T,np.log(h(mytheta,X)))\n",
    "    term2 = np.dot((1-np.array(Y)).T,np.log(1-h(mytheta,X)))\n",
    "    regterm = (mylambda/2) * np.sum(np.dot(mytheta[1:].T,mytheta[1:])) #Skip theta0\n",
    "    return float( (1./m) * ( np.sum(term1 - term2) + regterm ) )"
   ]
  },
  {
   "cell_type": "code",
   "execution_count": 75,
   "metadata": {
    "id": "zCZnab8RsdGg"
   },
   "outputs": [],
   "source": [
    "def sigmoid(param):\n",
    "    param = np.clip( param, -500, 500 )           # protect against overflow\n",
    "    res = 1.0/(1.0+np.exp(-param))\n",
    "    return res"
   ]
  },
  {
   "cell_type": "code",
   "execution_count": 94,
   "metadata": {
    "id": "_0r1XIUysdPA"
   },
   "outputs": [],
   "source": [
    "def gradient_descent(X,Y,thetas):\n",
    "  row,col = X.shape\n",
    "  cost = np.zeros(col)\n",
    "\n",
    "  for i in range(row):\n",
    "    sig_value = sigmoid(np.dot(X[i], thetas))  \n",
    "    difference  = sig_value  - Y[i]                      \n",
    "    for j in range(col):\n",
    "      cost[j] = cost[j] + difference * X[i][j]        \n",
    "  return cost"
   ]
  },
  {
   "cell_type": "code",
   "execution_count": 110,
   "metadata": {
    "colab": {
     "base_uri": "https://localhost:8080/"
    },
    "id": "hsDTQhePrpYp",
    "outputId": "37a5dc3a-42b7-4d22-9a44-2a2fb31fe8eb"
   },
   "outputs": [
    {
     "name": "stdout",
     "output_type": "stream",
     "text": [
      "(66,)\n",
      "0.6089396397803091\n"
     ]
    }
   ],
   "source": [
    "initial_theta = np.zeros(X.shape[1])\n",
    "\n",
    "def optimizeRegularizedTheta(mytheta,X,Y,alpha,epoch,mylambda=0.):\n",
    "    m = Y.shape[0]\n",
    "    cost_track = []\n",
    "    thetas = mytheta\n",
    "    for i in range(epoch):\n",
    "      cost = gradient_descent(X,Y,thetas)\n",
    "      thetas = thetas * (1 - (mylambda/m)) - (alpha/m) * cost\n",
    "      cost_track.append( computeCost(thetas,X,Y,mylambda) )\n",
    "      # if i% 10 == 0 or i == epoch-1 :\n",
    "      #   print(f\"Iteration {i:4d}: Cost {cost_track[-1]}   \")\n",
    "\n",
    "    return thetas,min(cost_track)\n",
    "\n",
    "thetas,min_cost = optimizeRegularizedTheta(initial_theta,X,Y,0.1,100)\n",
    "print(thetas.shape)\n",
    "print(min_cost)"
   ]
  },
  {
   "cell_type": "code",
   "execution_count": 111,
   "metadata": {
    "id": "TEkx-5DIrpbp"
   },
   "outputs": [],
   "source": [
    "def plotBoundary(mytheta, X, Y, mylambda=0.):\n",
    "    \"\"\"\n",
    "    Function to plot the decision boundary for arbitrary theta, X, y, lambda value\n",
    "    Inside of this function is feature mapping, and the minimization routine.\n",
    "    It works by making a grid of x1 (\"xvals\") and x2 (\"yvals\") points,\n",
    "    And for each, computing whether the hypothesis classifies that point as\n",
    "    True or False. Then, a contour is drawn with a built-in pyplot function.\n",
    "    \"\"\"\n",
    "    theta, mincost = optimizeRegularizedTheta(mytheta,X,Y,0.1,1000,mylambda)\n",
    "    print(theta, '\\n\\nCost : ', mincost, '\\n \\n ')\n",
    "    xvals = np.linspace(-1,1.5,50)\n",
    "    yvals = np.linspace(-1,1.5,50)\n",
    "    zvals = np.zeros((len(xvals),len(yvals)))\n",
    "    for i in range(len(xvals)):\n",
    "        for j in range(len(yvals)):\n",
    "            myfeaturesij = mapFeature(np.array([xvals[i]]),np.array([yvals[j]]))\n",
    "            zvals[i][j] = np.dot(theta,myfeaturesij.T)\n",
    "            # print(type(zvals), zvals.shape)\n",
    "    zvals = zvals.transpose()\n",
    "\n",
    "    u, v = np.meshgrid( xvals, yvals )\n",
    "    mycontour = plt.contour( xvals, yvals, zvals, [0])\n",
    "    #Kind of a hacky way to display a text on top of the decision boundary\n",
    "    myfmt = { 0:'Lambda = %d'%mylambda}\n",
    "    plt.clabel(mycontour, inline=1, fontsize=15, fmt=myfmt)\n",
    "    plt.title(\"Decision Boundary\")"
   ]
  },
  {
   "cell_type": "code",
   "execution_count": 112,
   "metadata": {
    "colab": {
     "base_uri": "https://localhost:8080/",
     "height": 1000
    },
    "id": "GyrvRvomrpd-",
    "outputId": "0c029048-ee20-4ab7-e86d-f6de7acb5495"
   },
   "outputs": [
    {
     "name": "stdout",
     "output_type": "stream",
     "text": [
      "[ 1.26417001e+00  7.35785885e-01  1.34575328e+00 -2.05425981e+00\n",
      " -9.41669252e-01 -1.20175477e+00  2.36484563e-01 -4.14345656e-01\n",
      " -4.16023101e-01 -1.18983482e-02 -1.50604511e+00 -8.73088139e-02\n",
      " -6.65501535e-01 -2.97257007e-01 -1.06321371e+00 -1.61310274e-01\n",
      " -2.42833027e-01 -7.79800864e-02 -2.93290541e-01 -3.33313239e-01\n",
      " -3.29543875e-01 -1.06496165e+00  5.95148218e-03 -3.24248588e-01\n",
      " -5.39771789e-03 -3.48586876e-01 -1.63715987e-01 -8.23557181e-01\n",
      " -3.06198193e-01 -1.24851523e-01 -5.83636352e-02 -1.27239389e-01\n",
      " -5.16787175e-02 -1.85022617e-01 -2.23006646e-01 -4.04024311e-01\n",
      " -7.79282173e-01  1.89835570e-02 -1.73872565e-01  3.56166116e-03\n",
      " -1.41519603e-01  1.15972201e-03 -2.05696985e-01 -1.09103872e-01\n",
      " -6.53303972e-01 -3.41124101e-01 -6.76487518e-02 -4.69828729e-02\n",
      " -5.38762103e-02 -2.75431258e-02 -7.21588493e-02 -2.43917876e-02\n",
      " -1.22763466e-01 -1.49737233e-01 -4.15713881e-01 -5.93250571e-01\n",
      "  1.49229807e-02 -1.02432655e-01  3.34685185e-03 -6.41146049e-02\n",
      "  7.96918805e-05 -7.52361895e-02  4.17462157e-03 -1.32254871e-01\n",
      " -8.03974815e-02 -5.47647436e-01] \n",
      "\n",
      "Cost :  0.4465556316439509 \n",
      " \n",
      " \n",
      "[ 2.28312280e-01  1.03297388e-02  2.05845537e-01 -3.84593804e-01\n",
      " -1.18304524e-01 -1.93626199e-01 -4.36395349e-02 -5.54606640e-02\n",
      " -6.51265867e-02 -4.65227040e-02 -2.95863649e-01 -1.36350886e-02\n",
      " -1.08149646e-01 -3.23260246e-02 -2.11394183e-01 -8.72427477e-02\n",
      " -3.55433332e-02 -2.13406667e-02 -4.54295176e-02 -4.27583878e-02\n",
      " -1.17608909e-01 -2.19019998e-01 -1.94690409e-03 -5.50487784e-02\n",
      " -1.53849208e-03 -5.82500244e-02 -1.45926533e-02 -1.94514130e-01\n",
      " -9.90111558e-02 -2.03821279e-02 -1.54180917e-02 -1.94294242e-02\n",
      " -1.02730983e-02 -3.28925864e-02 -2.46286434e-02 -1.40357704e-01\n",
      " -1.68341319e-01 -4.08102275e-04 -3.07449513e-02 -6.01470281e-04\n",
      " -2.36405324e-02 -1.22435190e-04 -3.73241203e-02 -7.37770870e-03\n",
      " -1.79396024e-01 -9.81128728e-02 -1.28966695e-02 -1.15087167e-02\n",
      " -8.47720401e-03 -6.17386368e-03 -1.20309849e-02 -4.23854738e-03\n",
      " -2.49141339e-02 -1.37913475e-02 -1.49168249e-01 -1.35307039e-01\n",
      " -1.12571755e-03 -1.87649046e-02 -3.43850884e-04 -1.09941194e-02\n",
      " -6.61937363e-04 -1.30432766e-02  7.18052664e-04 -2.66874364e-02\n",
      " -3.77368447e-03 -1.70678150e-01] \n",
      "\n",
      "Cost :  0.6122342433272664 \n",
      " \n",
      " \n",
      "[ 8.08233749e-03 -1.63183964e-02  9.56777135e-03 -5.29773836e-02\n",
      " -1.32610473e-02 -3.41044464e-02 -1.72648106e-02 -7.33111415e-03\n",
      " -8.86901777e-03 -1.89065411e-02 -4.19619119e-02 -2.31993468e-03\n",
      " -1.36775399e-02 -3.59126613e-03 -3.72770618e-02 -1.98515185e-02\n",
      " -4.56415462e-03 -3.51837354e-03 -6.01934754e-03 -5.04145457e-03\n",
      " -2.79080172e-02 -3.28990858e-02 -1.00582364e-03 -6.86900410e-03\n",
      " -3.97931666e-04 -7.65447353e-03 -1.60536630e-03 -3.68043231e-02\n",
      " -2.01514926e-02 -2.87652307e-03 -2.43826800e-03 -2.37901755e-03\n",
      " -1.46888280e-03 -4.69648550e-03 -2.79225582e-03 -3.17945526e-02\n",
      " -2.71058392e-02 -8.16590049e-04 -3.89410304e-03 -2.19183224e-04\n",
      " -2.96020476e-03 -1.29203663e-04 -5.24688106e-03 -8.50627022e-04\n",
      " -3.67731707e-02 -1.96989724e-02 -2.10145133e-03 -1.76708930e-03\n",
      " -1.03485586e-03 -8.86622731e-04 -1.55095675e-03 -5.99051406e-04\n",
      " -3.84407889e-03 -1.60812381e-03 -3.44984835e-02 -2.35436231e-02\n",
      " -9.05709464e-04 -2.43100228e-03 -1.38814974e-04 -1.37293333e-03\n",
      " -1.46879627e-04 -1.68888950e-03  1.33083635e-05 -4.06325099e-03\n",
      " -5.48509664e-04 -3.78221305e-02] \n",
      "\n",
      "Cost :  0.6756282689370645 \n",
      " \n",
      " \n",
      "[-9.65292242e-04 -4.15931566e-03  5.13165971e-04 -1.15456362e-02\n",
      " -2.70357635e-03 -8.32355474e-03 -4.12260824e-03 -1.65630643e-03\n",
      " -1.89582410e-03 -5.06958434e-03 -9.06350853e-03 -5.13766959e-04\n",
      " -2.95442055e-03 -7.29793086e-04 -8.79134598e-03 -4.53629456e-03\n",
      " -9.92849297e-04 -7.76023478e-04 -1.33076453e-03 -1.04578780e-03\n",
      " -6.86082163e-03 -7.14255208e-03 -2.45359030e-04 -1.45990257e-03\n",
      " -9.26118148e-05 -1.66565579e-03 -3.25461215e-04 -8.68481391e-03\n",
      " -4.54602907e-03 -6.28893984e-04 -5.33804648e-04 -5.10668904e-04\n",
      " -3.16315537e-04 -1.04513680e-03 -5.74258168e-04 -7.69057677e-03\n",
      " -5.93715988e-03 -2.05117063e-04 -8.25219868e-04 -5.29040764e-05\n",
      " -6.31112881e-04 -3.17472542e-05 -1.15640464e-03 -1.75524580e-04\n",
      " -8.74324070e-03 -4.43564918e-03 -4.66339346e-04 -3.84749270e-04\n",
      " -2.20851952e-04 -1.91063408e-04 -3.34997011e-04 -1.28476523e-04\n",
      " -8.64738713e-04 -3.34442150e-04 -8.33386831e-03 -5.20992264e-03\n",
      " -2.23059146e-04 -5.15666815e-04 -3.38257274e-05 -2.90994903e-04\n",
      " -3.36945835e-05 -3.62910573e-04 -1.82241360e-07 -9.08907529e-04\n",
      " -1.20940771e-04 -9.07336447e-03] \n",
      "\n",
      "Cost :  0.6888223513873032 \n",
      " \n",
      " \n"
     ]
    },
    {
     "name": "stderr",
     "output_type": "stream",
     "text": [
      "/usr/local/lib/python3.7/dist-packages/ipykernel_launcher.py:22: UserWarning: No contour levels were found within the data range.\n"
     ]
    },
    {
     "data": {
      "image/png": "[encoded data removed]",
      "text/plain": [
       "<Figure size 864x720 with 4 Axes>"
      ]
     },
     "metadata": {
      "needs_background": "light"
     },
     "output_type": "display_data"
    }
   ],
   "source": [
    "plt.figure(figsize=(12,10))\n",
    "plt.subplot(221)\n",
    "plotData(data, 'Microchip Test 1', 'Microchip Test 2', 'y = 1', 'y = 0')\n",
    "plotBoundary(initial_theta,X,Y,0.)\n",
    "\n",
    "plt.subplot(222)\n",
    "plotData(data, 'Microchip Test 1', 'Microchip Test 2', 'y = 1', 'y = 0')\n",
    "plotBoundary(initial_theta,X,Y,1.)\n",
    "\n",
    "plt.subplot(223)\n",
    "plotData(data, 'Microchip Test 1', 'Microchip Test 2', 'y = 1', 'y = 0')\n",
    "plotBoundary(initial_theta,X,Y,10.)\n",
    "\n",
    "plt.subplot(224)\n",
    "plotData(data, 'Microchip Test 1', 'Microchip Test 2', 'y = 1', 'y = 0')\n",
    "plotBoundary(initial_theta,X,Y,50.)"
   ]
  }
 ],
 "metadata": {
  "colab": {
   "authorship_tag": "ABX9TyM1EWweSix/WfQEFqcPodTY",
   "include_colab_link": true,
   "provenance": []
  },
  "kernelspec": {
   "display_name": "Python 3 (ipykernel)",
   "language": "python",
   "name": "python3"
  },
  "language_info": {
   "codemirror_mode": {
    "name": "ipython",
    "version": 3
   },
   "file_extension": ".py",
   "mimetype": "text/x-python",
   "name": "python",
   "nbconvert_exporter": "python",
   "pygments_lexer": "ipython3",
   "version": "3.10.7"
  }
 },
 "nbformat": 4,
 "nbformat_minor": 1
}
