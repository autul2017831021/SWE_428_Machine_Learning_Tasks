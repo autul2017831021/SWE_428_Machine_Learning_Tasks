{
 "cells": [
  {
   "cell_type": "code",
   "execution_count": 2,
   "id": "8c02bdbd",
   "metadata": {},
   "outputs": [],
   "source": [
    "import os\n",
    "import random\n",
    "from IPython.display import clear_output\n",
    "import skimage\n",
    "from skimage import transform\n",
    "from glob import glob\n",
    "from sklearn import metrics\n",
    "import pandas as pd\n",
    "import seaborn as sn\n",
    "import numpy as np\n",
    "from PIL import Image\n",
    "import matplotlib.pyplot as plt\n",
    "from skimage import io, color\n",
    "import tqdm\n",
    "from skimage.transform import *\n",
    "\n",
    "from sklearn.model_selection import train_test_split\n",
    "from keras.utils import to_categorical\n",
    "\n",
    "import tensorflow as tf\n",
    "from tensorflow import keras\n",
    "\n",
    "from tensorflow.keras.preprocessing import image\n",
    "from tensorflow.keras.preprocessing.image import ImageDataGenerator\n",
    "from tensorflow.keras.models import Sequential, load_model\n",
    "from tensorflow.keras.optimizers import RMSprop\n",
    "from tensorflow.keras.callbacks import ReduceLROnPlateau\n",
    "from tensorflow.keras.layers import Dense, Flatten, Conv2D, Dropout, MaxPooling2D, AvgPool2D\n",
    "from tensorflow.keras.callbacks import CSVLogger, ModelCheckpoint, ReduceLROnPlateau, EarlyStopping"
   ]
  },
  {
   "cell_type": "code",
   "execution_count": 3,
   "id": "59a61c27",
   "metadata": {},
   "outputs": [],
   "source": [
    "disease_data = []\n",
    "disease_class = []\n",
    "train_disease_data  = []\n",
    "train_disease_class = []\n",
    "test_disease_data  = []\n",
    "test_disease_class = []\n",
    "IMG_SIZE = (64,64)"
   ]
  },
  {
   "cell_type": "markdown",
   "id": "777f21c9",
   "metadata": {},
   "source": [
    "<h1> Data Collection </h1>"
   ]
  },
  {
   "cell_type": "code",
   "execution_count": 4,
   "id": "9f20dbb7",
   "metadata": {
    "scrolled": true
   },
   "outputs": [],
   "source": [
    "def collect_data(filepath, label, new_shape):\n",
    "    all_images = glob(filepath)\n",
    "    print(len(all_images))\n",
    "    for item in all_images:\n",
    "        disease_class.append(label)\n",
    "        image = skimage.io.imread(item)\n",
    "        image = color.gray2rgb(image)\n",
    "        image = skimage.transform.resize(image=image, output_shape=new_shape)\n",
    "        disease_data.append(np.array(image))"
   ]
  },
  {
   "cell_type": "code",
   "execution_count": 5,
   "id": "1ceddac0",
   "metadata": {},
   "outputs": [],
   "source": [
    "class0 = 'Dataset/AbdomenCT/*.jpeg'\n",
    "class1 = 'Dataset/ChestCT/*.jpeg'\n",
    "class2 = 'Dataset/CXR/*.jpeg'\n",
    "class3 = 'Dataset/Hand/*.jpeg'\n",
    "class4 = 'Dataset/HeadCT/*.jpeg'"
   ]
  },
  {
   "cell_type": "code",
   "execution_count": 6,
   "id": "6c151c98",
   "metadata": {},
   "outputs": [
    {
     "name": "stdout",
     "output_type": "stream",
     "text": [
      "10000\n",
      "10000\n",
      "10000\n",
      "10000\n",
      "10000\n"
     ]
    }
   ],
   "source": [
    "classes_path_list = [class0,class1,class2,class3,class4]\n",
    "disease_data.clear()\n",
    "disease_class.clear()\n",
    "for i in range(len(classes_path_list)):\n",
    "    collect_data(classes_path_list[i], i, IMG_SIZE)"
   ]
  },
  {
   "cell_type": "code",
   "execution_count": 7,
   "id": "f4b4da29",
   "metadata": {},
   "outputs": [
    {
     "data": {
      "text/plain": [
       "(64, 64, 3)"
      ]
     },
     "execution_count": 7,
     "metadata": {},
     "output_type": "execute_result"
    }
   ],
   "source": [
    "disease_data[1].shape"
   ]
  },
  {
   "cell_type": "code",
   "execution_count": 8,
   "id": "5fa21103",
   "metadata": {},
   "outputs": [
    {
     "data": {
      "text/plain": [
       "50000"
      ]
     },
     "execution_count": 8,
     "metadata": {},
     "output_type": "execute_result"
    }
   ],
   "source": [
    "len(disease_class)"
   ]
  },
  {
   "cell_type": "markdown",
   "id": "adde9c92",
   "metadata": {},
   "source": [
    "<h1> Splitting Dataset For Training(80%) & Testing(20%) purpose </h1>"
   ]
  },
  {
   "cell_type": "code",
   "execution_count": 9,
   "id": "732d732b",
   "metadata": {},
   "outputs": [],
   "source": [
    "X_train, X_test, y_train, y_test = train_test_split(disease_data, to_categorical(np.array(disease_class)), test_size = 0.20)"
   ]
  },
  {
   "cell_type": "markdown",
   "id": "15dc64a9",
   "metadata": {},
   "source": [
    "<h1> Defining CNN Model </h1>"
   ]
  },
  {
   "cell_type": "code",
   "execution_count": 10,
   "id": "0438d8fb",
   "metadata": {},
   "outputs": [
    {
     "name": "stdout",
     "output_type": "stream",
     "text": [
      "Model: \"sequential\"\n",
      "_________________________________________________________________\n",
      " Layer (type)                Output Shape              Param #   \n",
      "=================================================================\n",
      " conv2d (Conv2D)             (None, 64, 64, 64)        832       \n",
      "                                                                 \n",
      " max_pooling2d (MaxPooling2D  (None, 32, 32, 64)       0         \n",
      " )                                                               \n",
      "                                                                 \n",
      " dropout (Dropout)           (None, 32, 32, 64)        0         \n",
      "                                                                 \n",
      " conv2d_1 (Conv2D)           (None, 32, 32, 32)        8224      \n",
      "                                                                 \n",
      " max_pooling2d_1 (MaxPooling  (None, 16, 16, 32)       0         \n",
      " 2D)                                                             \n",
      "                                                                 \n",
      " dropout_1 (Dropout)         (None, 16, 16, 32)        0         \n",
      "                                                                 \n",
      " flatten (Flatten)           (None, 8192)              0         \n",
      "                                                                 \n",
      " dense (Dense)               (None, 256)               2097408   \n",
      "                                                                 \n",
      " dropout_2 (Dropout)         (None, 256)               0         \n",
      "                                                                 \n",
      " dense_1 (Dense)             (None, 5)                 1285      \n",
      "                                                                 \n",
      "=================================================================\n",
      "Total params: 2,107,749\n",
      "Trainable params: 2,107,749\n",
      "Non-trainable params: 0\n",
      "_________________________________________________________________\n"
     ]
    }
   ],
   "source": [
    "model = tf.keras.Sequential()\n",
    "# Must define the input shape in the first layer of the neural network\n",
    "model.add(Conv2D(filters=64, kernel_size=(2,2),strides=(1, 1), padding='same', activation='relu', input_shape=(64,64,3))) \n",
    "model.add(MaxPooling2D(pool_size=(2,2)))\n",
    "model.add(Dropout(0.3))\n",
    "model.add(Conv2D(filters=32, kernel_size=(2,2),strides=(1, 1), padding='same', activation='relu'))\n",
    "model.add(MaxPooling2D(pool_size=(2,2)))\n",
    "model.add(Dropout(0.3))\n",
    "model.add(Flatten())\n",
    "model.add(Dense(256, activation='relu'))\n",
    "model.add(Dropout(0.5))\n",
    "model.add(Dense(5, activation='softmax'))\n",
    "# Take a look at the model summary\n",
    "model.summary()"
   ]
  },
  {
   "cell_type": "markdown",
   "id": "d04c4485",
   "metadata": {},
   "source": [
    "<h1> Compile Model </h1>"
   ]
  },
  {
   "cell_type": "code",
   "execution_count": 11,
   "id": "fd355257",
   "metadata": {},
   "outputs": [],
   "source": [
    "model.compile(loss='categorical_crossentropy', optimizer='adam', metrics=['accuracy'])"
   ]
  },
  {
   "cell_type": "markdown",
   "id": "55945929",
   "metadata": {},
   "source": [
    "<h1> Fit Model </h1>"
   ]
  },
  {
   "cell_type": "code",
   "execution_count": 12,
   "id": "38505b33",
   "metadata": {},
   "outputs": [
    {
     "name": "stdout",
     "output_type": "stream",
     "text": [
      "Epoch 1/10\n",
      "563/563 [==============================] - 186s 326ms/step - loss: 0.0969 - accuracy: 0.9684 - val_loss: 0.0105 - val_accuracy: 0.9977\n",
      "Epoch 2/10\n",
      "563/563 [==============================] - 176s 313ms/step - loss: 0.0126 - accuracy: 0.9967 - val_loss: 0.0079 - val_accuracy: 0.9975\n",
      "Epoch 3/10\n",
      "563/563 [==============================] - 164s 292ms/step - loss: 0.0082 - accuracy: 0.9976 - val_loss: 0.0056 - val_accuracy: 0.9980\n",
      "Epoch 4/10\n",
      "563/563 [==============================] - 178s 317ms/step - loss: 0.0072 - accuracy: 0.9979 - val_loss: 0.0080 - val_accuracy: 0.9983\n",
      "Epoch 5/10\n",
      "563/563 [==============================] - 162s 289ms/step - loss: 0.0061 - accuracy: 0.9984 - val_loss: 0.0072 - val_accuracy: 0.9980\n",
      "Epoch 6/10\n",
      "563/563 [==============================] - 164s 290ms/step - loss: 0.0059 - accuracy: 0.9982 - val_loss: 0.0050 - val_accuracy: 0.9983\n",
      "Epoch 7/10\n",
      "563/563 [==============================] - 166s 294ms/step - loss: 0.0062 - accuracy: 0.9979 - val_loss: 0.0031 - val_accuracy: 0.9987\n",
      "Epoch 8/10\n",
      "563/563 [==============================] - 166s 294ms/step - loss: 0.0030 - accuracy: 0.9990 - val_loss: 0.0028 - val_accuracy: 0.9990\n",
      "Epoch 9/10\n",
      "563/563 [==============================] - 162s 288ms/step - loss: 0.0046 - accuracy: 0.9988 - val_loss: 0.0034 - val_accuracy: 0.9987\n",
      "Epoch 10/10\n",
      "563/563 [==============================] - 163s 290ms/step - loss: 0.0037 - accuracy: 0.9988 - val_loss: 0.0053 - val_accuracy: 0.9980\n"
     ]
    }
   ],
   "source": [
    "model_log = model.fit(np.array(X_train), y_train,\n",
    "          batch_size=64,\n",
    "          epochs=10,\n",
    "          verbose=1,\n",
    "          validation_split=.1)"
   ]
  },
  {
   "cell_type": "markdown",
   "id": "52dbca73",
   "metadata": {},
   "source": [
    "<h1> Evaluate Model </h1>"
   ]
  },
  {
   "cell_type": "code",
   "execution_count": 13,
   "id": "75297b0e",
   "metadata": {},
   "outputs": [
    {
     "name": "stdout",
     "output_type": "stream",
     "text": [
      "313/313 [==============================] - 10s 33ms/step - loss: 0.0029 - accuracy: 0.9991\n",
      "Test_Accuracy: 99.91%\n"
     ]
    }
   ],
   "source": [
    "print(\"Test_Accuracy: {:.2f}%\".format(model.evaluate(np.array(X_test), np.array(y_test))[1]*100))"
   ]
  },
  {
   "cell_type": "markdown",
   "id": "432f033e",
   "metadata": {},
   "source": [
    "<h2> Result </h2>"
   ]
  },
  {
   "cell_type": "markdown",
   "id": "15eda41d",
   "metadata": {},
   "source": [
    "<table style=\"width:50%; font-size:16px\">\n",
    "  <thead>\n",
    "    <tr>\n",
    "      <th></th>\n",
    "      <th>Accuracy</th>\n",
    "    </tr>\n",
    "  </thead>\n",
    "  <tbody>\n",
    "    <tr>\n",
    "      <td>Test Data</td>\n",
    "      <td>91.91%</td>\n",
    "    </tr>\n",
    "  </tbody>\n",
    "</table>"
   ]
  },
  {
   "cell_type": "markdown",
   "id": "1053e893",
   "metadata": {},
   "source": [
    "<h1> Plotting </h1>"
   ]
  },
  {
   "cell_type": "code",
   "execution_count": 14,
   "id": "dd06d717",
   "metadata": {},
   "outputs": [
    {
     "data": {
      "image/png": "[encoded data removed]",
      "text/plain": [
       "<Figure size 640x480 with 2 Axes>"
      ]
     },
     "metadata": {},
     "output_type": "display_data"
    }
   ],
   "source": [
    "fig = plt.figure()\n",
    "plt.subplot(2,1,1)\n",
    "plt.plot(model_log.history['accuracy'])\n",
    "plt.plot(model_log.history['val_accuracy'])\n",
    "plt.title('model accuracy')\n",
    "plt.ylabel('accuracy')\n",
    "plt.xlabel('epoch')\n",
    "plt.legend(['train', 'test'], loc='lower right')\n",
    "plt.subplot(2,1,2)\n",
    "plt.plot(model_log.history['loss'])\n",
    "plt.plot(model_log.history['val_loss'])\n",
    "plt.title('model loss')\n",
    "plt.ylabel('loss')\n",
    "plt.xlabel('epoch')\n",
    "plt.legend(['train', 'test'], loc='upper right')\n",
    "plt.tight_layout()"
   ]
  }
 ],
 "metadata": {
  "kernelspec": {
   "display_name": "Python 3 (ipykernel)",
   "language": "python",
   "name": "python3"
  },
  "language_info": {
   "codemirror_mode": {
    "name": "ipython",
    "version": 3
   },
   "file_extension": ".py",
   "mimetype": "text/x-python",
   "name": "python",
   "nbconvert_exporter": "python",
   "pygments_lexer": "ipython3",
   "version": "3.10.7"
  }
 },
 "nbformat": 4,
 "nbformat_minor": 5
}
