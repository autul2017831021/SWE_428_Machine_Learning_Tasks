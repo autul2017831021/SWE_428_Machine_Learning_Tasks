{
  "nbformat": 4,
  "nbformat_minor": 0,
  "metadata": {
    "colab": {
      "private_outputs": true,
      "provenance": [],
      "authorship_tag": "ABX9TyOLV40agr1C/v05FKaKSWzg",
      "include_colab_link": true
    },
    "kernelspec": {
      "name": "python3",
      "display_name": "Python 3"
    },
    "language_info": {
      "name": "python"
    }
  },
  "cells": [
    {
      "cell_type": "markdown",
      "metadata": {
        "id": "view-in-github",
        "colab_type": "text"
      },
      "source": [
        "<a href=\"https://colab.research.google.com/github/autul2017831021/SWE_428_Machine_Learning_Tasks/blob/main/First%20Assignment/linear_regression_gradient_descent_task.ipynb\" target=\"_parent\"><img src=\"https://colab.research.google.com/assets/colab-badge.svg\" alt=\"Open In Colab\"/></a>"
      ]
    },
    {
      "cell_type": "code",
      "execution_count": null,
      "metadata": {
        "id": "uIJOmegQxw1d"
      },
      "outputs": [],
      "source": [
        "import pandas as pd\n",
        "import matplotlib.pyplot as plt\n",
        "import numpy as np\n",
        "import seaborn as sns\n",
        "import csv\n",
        "import io"
      ]
    },
    {
      "cell_type": "markdown",
      "source": [
        "# **Data Managing**"
      ],
      "metadata": {
        "id": "VbUCOd7pyoMy"
      }
    },
    {
      "cell_type": "code",
      "source": [
        "from google.colab import files\n",
        "uploaded = files.upload()"
      ],
      "metadata": {
        "id": "9s4KpKXIyOvz"
      },
      "execution_count": null,
      "outputs": []
    },
    {
      "cell_type": "code",
      "source": [
        "data = pd.read_csv(io.BytesIO(uploaded['4K_House_Rent_Dataset.csv']))\n",
        "data"
      ],
      "metadata": {
        "id": "ZEaLG3Tzy7sS"
      },
      "execution_count": null,
      "outputs": []
    },
    {
      "cell_type": "code",
      "source": [
        "y = data['Rent'].values\n",
        "x1 = data['Size'].values\n",
        "x2 = data['BHK'].values\n",
        "x3 = data['Bathroom'].values\n",
        "x4 = data['Furnishing Status'].values"
      ],
      "metadata": {
        "id": "yaLjC9rQzGuG"
      },
      "execution_count": null,
      "outputs": []
    },
    {
      "cell_type": "code",
      "source": [
        "def replace_values(list_to_replace, item_to_replace, item_to_replace_with):\n",
        "    return [item_to_replace_with if item == item_to_replace else item for item in list_to_replace]\n",
        "x4 = replace_values(x4,'Furnished',3)\n",
        "x4 = replace_values(x4,'Semi-Furnished',2)\n",
        "x4 = replace_values(x4,'Unfurnished',1)"
      ],
      "metadata": {
        "id": "1Rk7fAyB0k-P"
      },
      "execution_count": null,
      "outputs": []
    },
    {
      "cell_type": "code",
      "source": [
        "t0 = 0\n",
        "t1 = 0\n",
        "t2 = 0\n",
        "t3 = 0\n",
        "t4 = 0"
      ],
      "metadata": {
        "id": "MzG16agXzHUZ"
      },
      "execution_count": null,
      "outputs": []
    },
    {
      "cell_type": "markdown",
      "source": [
        "# **Gradient Descent Algotithm**"
      ],
      "metadata": {
        "id": "m_H6ZKvkysOd"
      }
    },
    {
      "cell_type": "code",
      "source": [
        "m = len(x1)\n",
        "epoch = 1000\n",
        "learning_rate = 0.0000001"
      ],
      "metadata": {
        "id": "-_s_8Y88zStA"
      },
      "execution_count": null,
      "outputs": []
    },
    {
      "cell_type": "code",
      "source": [
        "for i in range(epoch):\n",
        "    cx0 = 0\n",
        "    cx1 = 0\n",
        "    cx2 = 0\n",
        "    cx3 = 0\n",
        "    cx4 = 0\n",
        "    \n",
        "    for j in range(m):\n",
        "        cx0 += (t0 + t1*x1[j] + t2*x2[j] + t3*x3[j] + t4*x4[j] - y[j])\n",
        "        cx1 += (t0 + t1*x1[j] + t2*x2[j] + t3*x3[j] + t4*x4[j] - y[j]) * x1[j]\n",
        "        cx2 += (t0 + t1*x1[j] + t2*x2[j] + t3*x3[j] + t4*x4[j] - y[j]) * x2[j]\n",
        "        cx3 += (t0 + t1*x1[j] + t2*x2[j] + t3*x3[j] + t4*x4[j] - y[j]) * x3[j]\n",
        "        cx4 += (t0 + t1*x1[j] + t2*x2[j] + t3*x3[j] + t4*x4[j] - y[j]) * x4[j]\n",
        "        \n",
        "    t0 = t0 - learning_rate * (cx0) / m\n",
        "    t1 = t1 - learning_rate * (cx1) / m\n",
        "    t2 = t2 - learning_rate * (cx2) / m\n",
        "    t3 = t3 - learning_rate * (cx3) / m\n",
        "    t4 = t4 - learning_rate * (cx4) / m\n",
        "  \n",
        "print(t0,t1,t2,t3,t4)"
      ],
      "metadata": {
        "id": "nPlBDueXzSvn"
      },
      "execution_count": null,
      "outputs": []
    },
    {
      "cell_type": "code",
      "source": [
        "sum = 0\n",
        "for j in range(m):\n",
        "    tsum = t0 +  t1*x1[j] + t2*x2[j] + t3*x3[j] + t4*x4[j] - y[j]\n",
        "    tsum = tsum * tsum\n",
        "    sum = sum + tsum\n",
        "    \n",
        "cost = sum/(2*m)\n",
        "print(cost)"
      ],
      "metadata": {
        "id": "ZhXBd9d-y8oN"
      },
      "execution_count": null,
      "outputs": []
    },
    {
      "cell_type": "code",
      "source": [
        "predict = t0 + t1*1100 + t2*2 + t3*2 + t4*1\n",
        "print(predict)"
      ],
      "metadata": {
        "id": "0t5KdR_mzS0G"
      },
      "execution_count": null,
      "outputs": []
    },
    {
      "cell_type": "markdown",
      "source": [
        "# **Plotting**"
      ],
      "metadata": {
        "id": "Wnmbe_zvzQl9"
      }
    },
    {
      "cell_type": "code",
      "source": [
        "max_x = np.max(x1) + 100\n",
        "min_x = np.min(x1)\n",
        "x = np.linspace(min_x, max_x, 1000)\n",
        "yy = t1 * x + t0\n",
        "print(len(x1),len(y))\n",
        "plt.plot(x, yy, color='#58b970', label='Regression Line')\n",
        "plt.scatter(x1, y, c = \"#ef5423\", label = 'Scatter Plot')\n",
        "\n",
        "\n",
        "plt.xlabel('House Size')\n",
        "plt.ylabel('Price')\n",
        "plt.legend()\n",
        "plt.show()"
      ],
      "metadata": {
        "id": "TGyWv3MqCGt2"
      },
      "execution_count": null,
      "outputs": []
    }
  ]
}